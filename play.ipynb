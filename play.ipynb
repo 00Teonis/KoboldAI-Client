{
  "nbformat": 4,
  "nbformat_minor": 0,
  "metadata": {
    "colab": {
      "name": "KoboldAI Jupyter",
      "provenance": [],
      "authorship_tag": "ABX9TyMDTbAhtDnKJa+aIEaQjpsL"
    },
    "kernelspec": {
      "name": "python3",
      "display_name": "Python 3"
    },
    "language_info": {
      "name": "python"
    },
    "accelerator": "TPU"
  },
  "cells": [
    {
      "cell_type": "markdown",
      "source": [
        "# KoboldAI Launcher for generic Jupyter Notebooks\n",
        "This notebook is meant as a way to easily launch KoboldAI on existing Jupyter instances that already have KoboldAI installed (For example a custom Saturn Cloud or Paperspace instance).\n",
        "\n",
        "For Google Colab please check out our Google Colab edition available at : https://colab.research.google.com/github/KoboldAI/KoboldAI-Client/blob/main/colab/TPU.ipynb"
      ],
      "metadata": {
        "id": "hMRnGz42Xsy3"
      }
    },
    {
      "cell_type": "code",
      "execution_count": null,
      "metadata": {
        "id": "40B1QvI3Xv02"
      },
      "outputs": [],
      "source": [
        "!pip install -r requirements.txt\n",
        "!python3 aiserver.py --remote"
      ]
    }
  ]
}